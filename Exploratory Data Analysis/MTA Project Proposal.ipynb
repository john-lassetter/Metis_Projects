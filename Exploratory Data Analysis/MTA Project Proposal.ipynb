{
 "cells": [
  {
   "cell_type": "markdown",
   "id": "3f3fe16a",
   "metadata": {},
   "source": [
    "# WTWY Project Proposal by John Lassetter"
   ]
  },
  {
   "cell_type": "markdown",
   "id": "cf6f73c2",
   "metadata": {},
   "source": [
    "## Question/Need"
   ]
  },
  {
   "cell_type": "markdown",
   "id": "29853f01",
   "metadata": {},
   "source": [
    "\"Where we’d like to solicit your engagement is to use MTA subway data, which as I’m sure you know is available freely from the city, to help us optimize the placement of our street teams, such that we can gather the most signatures, ideally from those who will attend the gala and contribute to our cause.\" - Client\n",
    "\n",
    "Question to answer for client:  Where and when can WTWY place their street teams to maximize signatures gathered from individuals who will attend the gala and contribute to their cause?\n",
    "\n",
    "- Simpler question to solve is where and when can WTWY place their street teams to maximize foot traffic through street teams.\n",
    "- Incorporating correlations between locations and times and likeliness of individuals crossing turnstiles at that time to attend the gala and contribute to their cause is a much more difficult question to answer which would require much more unique data and might not even change the answer much. Therefore, this will not be a part of the first draft of the analysis."
   ]
  },
  {
   "cell_type": "markdown",
   "id": "d104025b",
   "metadata": {},
   "source": [
    "## Data Description"
   ]
  },
  {
   "cell_type": "markdown",
   "id": "46bb9f73",
   "metadata": {},
   "source": [
    "Dataset:  I only plan to use the MTA turnstile data at this point in time which I will download and access using SQLAlchemy. An individual unit of this data is a cumulative total of entries and exits at a turnstile over a time period, typically 4 hours. Therefore, the unit of analysis will be a number of people crossing a turnstile (in either direction) in a time period. I expect to use the number of entries and exits as well as the location of the turnstiles (station, linename, etc.) and time of audit. My model's target will ideally be unique foot traffic defined as the number of individuals passing through a street team location (probably a station?) who have not yet passed through a previous street team location. For the first iteration, the target might instead be foot traffic without the unique qualifier."
   ]
  },
  {
   "cell_type": "markdown",
   "id": "1f25056f",
   "metadata": {},
   "source": [
    "## Tools"
   ]
  },
  {
   "cell_type": "markdown",
   "id": "8cd3b51c",
   "metadata": {},
   "source": [
    "Tools Requirement: I plan to meet the tools requirement by doing some of the EDA in SQLAlchemy and some in pandas dataframes, plotting metrics using matplotlib.\n",
    "\n",
    "Additional Tools: If this problem seems to be most easily formulated as a regression problem, I may use sci-kit learn to train a regression model such as a SVM."
   ]
  },
  {
   "cell_type": "markdown",
   "id": "2ee12186",
   "metadata": {},
   "source": [
    "## MVP"
   ]
  },
  {
   "cell_type": "markdown",
   "id": "fcf25073",
   "metadata": {},
   "source": [
    "MVP: Figures showing foot traffic as a function of station, time of day, and day of the week, as well as a list of the busiest stations, times, and days of the week."
   ]
  }
 ],
 "metadata": {
  "kernelspec": {
   "display_name": "Python [conda env:metis] *",
   "language": "python",
   "name": "conda-env-metis-py"
  },
  "language_info": {
   "codemirror_mode": {
    "name": "ipython",
    "version": 3
   },
   "file_extension": ".py",
   "mimetype": "text/x-python",
   "name": "python",
   "nbconvert_exporter": "python",
   "pygments_lexer": "ipython3",
   "version": "3.8.11"
  }
 },
 "nbformat": 4,
 "nbformat_minor": 5
}
